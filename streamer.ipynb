{
 "cells": [
  {
   "cell_type": "code",
   "execution_count": null,
   "metadata": {},
   "outputs": [],
   "source": [
    "#!/usr/bin/env python\n",
    "# imports\n",
    "from tweepy.streaming import StreamListener\n",
    "from tweepy import OAuthHandler\n",
    "from tweepy import Stream\n",
    "from json import loads\n",
    "from threading import Timer\n",
    "from http.client import IncompleteRead\n",
    "from pprint import pprint\n",
    "import os\n",
    "# from kafka import SimpleProducer, KafkaClient"
   ]
  },
  {
   "cell_type": "code",
   "execution_count": null,
   "metadata": {},
   "outputs": [],
   "source": [
    "# token information, intialize this if empty or use runtime input\n",
    "access_token = \"\"\n",
    "access_token_secret = \"\"\n",
    "consumer_key = \"\"\n",
    "consumer_secret = \"\""
   ]
  },
  {
   "cell_type": "code",
   "execution_count": null,
   "metadata": {},
   "outputs": [],
   "source": [
    "class StreamListener(StreamListener):\n",
    "    '''StreamListener class: This class works as a handler for the incoming stream'''\n",
    "    def on_data(self, data):\n",
    "        '''on_data class_method: handle data by loading into a json and appending to global repository of tweets, \n",
    "        based on minute as index'''\n",
    "        global tweets, i\n",
    "        # producer.send_messages(\"streamer\", data.encode('utf-8'))\n",
    "        tweet_json = loads(data)\n",
    "        if 'user' in tweet_json:\n",
    "            tweets[i-1].append({'user': tweet_json['user']['screen_name'], 'user_statuses': tweet_json['user']['statuses_count'] })\n",
    "        return True\n",
    "\n",
    "    def on_error(self, status):\n",
    "        '''on_error class_method: handle the errors are most frequently on server side/connection related and few, pass them'''\n",
    "        pass"
   ]
  },
  {
   "cell_type": "code",
   "execution_count": null,
   "metadata": {},
   "outputs": [],
   "source": [
    "def printer():\n",
    "    '''printer function: run a self-calling throad to be called every 60 seconds on the clock (not equivalent to sleep!)'''\n",
    "    global tweets, i, keyword\n",
    "    tweets.append([]) # append (current_minute + 1)s list\n",
    "    i = i + 1\n",
    "    Timer(60.0, printer).start() # called every minute\n",
    "    if i != 1:\n",
    "        print(\"\\nUsers who tweeted about `{}` in last 1 minute:\".format(keyword))\n",
    "        pprint(sum(tweets[-6:-1], []))"
   ]
  },
  {
   "cell_type": "code",
   "execution_count": null,
   "metadata": {},
   "outputs": [],
   "source": [
    "# MAIN FUNCTiON\n",
    "\n",
    "# CHECK CREDENTIALS\n",
    "if consumer_key == \"\" or consumer_secret == \"\" or access_token == \"\" or access_token_secret == \"\":\n",
    "    print(\"Some values were not defined in the program! Create them at https://apps.twitter.com/\")\n",
    "if consumer_key == \"\":\n",
    "    print(\"Enter consumer key:\")\n",
    "    consumer_key = input()\n",
    "elif consumer_secret == \"\":\n",
    "    print(\"Enter consumer secret:\")\n",
    "    consumer_secret = input()\n",
    "elif access_token == \"\":\n",
    "    print(\"Enter access token:\")\n",
    "    access_token = input()\n",
    "elif access_token_secret == \"\":\n",
    "    print(\"Enter access token secret:\")\n",
    "    access_token_secret = input()\n",
    "\n",
    "# TAKE INPUT\n",
    "print(\"Enter your keyword\")\n",
    "keyword = input()\n",
    "\n",
    "# COPIED\n",
    "auth = OAuthHandler(consumer_key, consumer_secret)\n",
    "auth.set_access_token(access_token, access_token_secret)\n",
    "# kafka = KafkaClient(\"localhost:9092\")\n",
    "# producer = SimpleProducer(kafka)\n",
    "\n",
    "# GLOBAL VARIABLES DECLARED AND INITIALIZED - need to remove the need to have global variables\n",
    "tweets = [[]] \n",
    "i = 0\n",
    "\n",
    "# START PRINTING\n",
    "print(\"\\nConsuming the stream...\")\n",
    "printer() # THIS WILL BECOME AN INDEPENDENT PROCESS\n",
    "\n",
    "l = StreamListener()\n",
    "\n",
    "# START STORING\n",
    "while True:\n",
    "    try:\n",
    "        stream = Stream(auth, l)\n",
    "        stream.filter(track=[keyword]) # THIS FUNCTION IS RUNNING AS `MAIN` PROCESS\n",
    "    except (Exception, IncompleteRead) as e:\n",
    "        continue\n",
    "    except:\n",
    "        os._exit(1) # kill kernel - need to address this"
   ]
  },
  {
   "cell_type": "code",
   "execution_count": null,
   "metadata": {},
   "outputs": [],
   "source": []
  }
 ],
 "metadata": {
  "kernelspec": {
   "display_name": "Python 3",
   "language": "python",
   "name": "python3"
  },
  "language_info": {
   "codemirror_mode": {
    "name": "ipython",
    "version": 3
   },
   "file_extension": ".py",
   "mimetype": "text/x-python",
   "name": "python",
   "nbconvert_exporter": "python",
   "pygments_lexer": "ipython3",
   "version": "3.6.3"
  }
 },
 "nbformat": 4,
 "nbformat_minor": 2
}

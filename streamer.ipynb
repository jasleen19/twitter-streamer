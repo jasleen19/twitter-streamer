{
 "cells": [
  {
   "cell_type": "code",
   "execution_count": 1,
   "metadata": {},
   "outputs": [],
   "source": [
    "#!/usr/bin/env python3\n",
    "# Imports\n",
    "from tweepy.streaming import StreamListener\n",
    "from tweepy import OAuthHandler\n",
    "from tweepy import Stream\n",
    "from json import loads\n",
    "from threading import Timer\n",
    "from http.client import IncompleteRead\n",
    "from tabulate import tabulate\n",
    "import os"
   ]
  },
  {
   "cell_type": "code",
   "execution_count": 2,
   "metadata": {},
   "outputs": [],
   "source": [
    "# token information, intialize this if empty or use runtime input\n",
    "consumer_key = \"\"\n",
    "consumer_secret = \"\"\n",
    "access_token = \"\"\n",
    "access_token_secret = \"\"\n",
    "users = {}\n",
    "i = 0\n",
    "duration = 60.0\n",
    "keyword = \"\""
   ]
  },
  {
   "cell_type": "code",
   "execution_count": 3,
   "metadata": {},
   "outputs": [],
   "source": [
    "# StreamListener class to process Twitter stream using Tweepy Stream object\n",
    "class StreamListener(StreamListener):\n",
    "    '''StreamListener class: This class works as a handler for the incoming\n",
    "    stream'''\n",
    "    def on_data(self, data):\n",
    "        '''on_data class_method: handle data by loading into a json and\n",
    "        appending to global repository of tweets,\n",
    "        based on minute as index'''\n",
    "        global i, users\n",
    "        tweet_json = loads(data)\n",
    "        if 'user' in tweet_json:\n",
    "            username = tweet_json['user']['screen_name']\n",
    "            # increase count or add user to key and then increase count\n",
    "            users[username] = users.get(username, 0) + 1\n",
    "#             # debug print\n",
    "#             if users[username] == 1:\n",
    "#                 print(\"Minute {}: {} tweeted!\".format(i, username))\n",
    "#             else:\n",
    "#                 print(\"Minute {}: {} tweeted AGAIN! Count = {}\".format(i,\n",
    "#                 username, users[username]))\n",
    "        return True\n",
    "    \n",
    "    def on_error(self, status):\n",
    "        '''on_error class_method: handle the errors are most frequently on\n",
    "        server side/connection related and few, pass them'''\n",
    "        pass"
   ]
  },
  {
   "cell_type": "code",
   "execution_count": 4,
   "metadata": {},
   "outputs": [],
   "source": [
    "def printer():\n",
    "    '''printer function: run a self-calling throad to be called every 60\n",
    "    seconds on the clock (not equivalent to sleep!)'''\n",
    "    global i, keyword, duration, users\n",
    "    i = i + 1\n",
    "    # called every minute; change value to 10 seconds to test faster\n",
    "    Timer(duration, printer).start()\n",
    "    if i != 1:\n",
    "        print(\"\\nUsers who tweeted about {} in last {} seconds:\".format(keyword, duration))\n",
    "        print(tabulate([(k, v) for k,v in users.items()] , headers=['Username', 'Tweets']))\n",
    "        print(\"\\n\")\n",
    "    # empty dictionary every 5 minutes\n",
    "    if i % duration == 0:\n",
    "        users = {}"
   ]
  },
  {
   "cell_type": "code",
   "execution_count": null,
   "metadata": {},
   "outputs": [
    {
     "name": "stdout",
     "output_type": "stream",
     "text": [
      "Enter your keyword:\n",
      "bitcoin\n",
      "\n",
      "Consuming the stream...\n",
      "\n",
      "Users who tweeted about bitcoin in last 10.0 seconds:\n",
      "Username           Tweets\n",
      "---------------  --------\n",
      "BitcoinWrld             1\n",
      "dtcz                    1\n",
      "DenVichi                1\n",
      "quotedian               1\n",
      "Kuckel1                 1\n",
      "about_today007          1\n",
      "n1ktesla                1\n",
      "BitCryptoX              1\n",
      "cryptotroller           1\n",
      "TempleRandazzo          1\n",
      "mrfanterbulous          1\n",
      "delicopsch56            1\n",
      "RyoverlambOrac          1\n",
      "BigHillDilligaf         1\n",
      "\n",
      "\n"
     ]
    }
   ],
   "source": [
    "# MAIN FUNCTiON\n",
    "\n",
    "# CHECK CREDENTIALS\n",
    "if consumer_key == \"\" or consumer_secret == \"\" or access_token == \"\" or access_token_secret == \"\":\n",
    "    print(\"Some values were not defined in the program! Create them at https://apps.twitter.com/\")\n",
    "if consumer_key == \"\":\n",
    "    print(\"Enter consumer key:\")\n",
    "    consumer_key = input()\n",
    "if consumer_secret == \"\":\n",
    "    print(\"Enter consumer secret:\")\n",
    "    consumer_secret = input()\n",
    "if access_token == \"\":\n",
    "    print(\"Enter access token:\")\n",
    "    access_token = input()\n",
    "if access_token_secret == \"\":\n",
    "    print(\"Enter access token secret:\")\n",
    "    access_token_secret = input()\n",
    "        \n",
    "# TAKE INPUT\n",
    "print(\"Enter your keyword:\")\n",
    "global keyword\n",
    "keyword = input()\n",
    "\n",
    "# COPIED\n",
    "auth = OAuthHandler(consumer_key, consumer_secret)\n",
    "auth.set_access_token(access_token, access_token_secret)\n",
    "\n",
    "# START PRINTING\n",
    "print(\"\\nConsuming the stream...\")\n",
    "# THIS WILL BECOME AN INDEPENDENT PROCESS\n",
    "printer()\n",
    "\n",
    "l = StreamListener()\n",
    "\n",
    "# START STORING\n",
    "while True:\n",
    "    try:\n",
    "        stream = Stream(auth, l)\n",
    "        # THIS FUNCTION IS RUNNING AS `MAIN` PROCESS\n",
    "        stream.filter(track=[keyword])\n",
    "    except (Exception, IncompleteRead) as e:\n",
    "        continue\n",
    "        # kill kernel - need to address this\n",
    "    except KeyboardInterrupt:\n",
    "        os._exit(1)"
   ]
  },
  {
   "cell_type": "code",
   "execution_count": null,
   "metadata": {},
   "outputs": [],
   "source": []
  }
 ],
 "metadata": {
  "kernelspec": {
   "display_name": "Python 3",
   "language": "python",
   "name": "python3"
  },
  "language_info": {
   "codemirror_mode": {
    "name": "ipython",
    "version": 3
   },
   "file_extension": ".py",
   "mimetype": "text/x-python",
   "name": "python",
   "nbconvert_exporter": "python",
   "pygments_lexer": "ipython3",
   "version": "3.6.3"
  }
 },
 "nbformat": 4,
 "nbformat_minor": 2
}
